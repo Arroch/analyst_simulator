{
 "cells": [
  {
   "cell_type": "code",
   "execution_count": 1,
   "id": "a0b7dcd4",
   "metadata": {},
   "outputs": [],
   "source": [
    "import os\n",
    "import dotenv\n",
    "\n",
    "import pandas as pd\n",
    "import pandahouse as ph\n",
    "from scipy import stats\n",
    "import numpy as np\n",
    "\n",
    "import seaborn as sns\n",
    "import matplotlib.pyplot as plt\n",
    "%matplotlib inline\n",
    "\n",
    "dotenv.load_dotenv()\n",
    "connection = {'host': os.getenv('host'),\n",
    "                      'database':os.getenv('database'),\n",
    "                      'user':os.getenv('user'), \n",
    "                      'password':os.getenv('password')\n",
    "                     }\n",
    "\n",
    "query1 = '''\n",
    "SELECT  exp_group,\n",
    "        user_id,\n",
    "        sum(action='like') AS likes,\n",
    "        sum(action='view') AS views,\n",
    "        likes/views AS ctr\n",
    "FROM    {db}.feed_actions\n",
    "WHERE   toDate(time) BETWEEN '2023-03-02' AND '2023-03-08'\n",
    "        AND exp_group in (1,2)\n",
    "GROUP BY exp_group, user_id\n",
    "'''\n",
    "query2 = '''\n",
    "SELECT  exp_group,\n",
    "        user_id,\n",
    "        sum(action='like') AS likes,\n",
    "        sum(action='view') AS views,\n",
    "        likes/views AS ctr\n",
    "FROM    {db}.feed_actions\n",
    "WHERE   toDate(time) BETWEEN '2023-03-02' AND '2023-03-08'\n",
    "        AND exp_group in (0,3)\n",
    "GROUP BY exp_group, user_id\n",
    "'''\n",
    "\n",
    "df1 = ph.read_clickhouse(query1, connection=connection)\n",
    "df2 = ph.read_clickhouse(query2, connection=connection)\n"
   ]
  },
  {
   "cell_type": "code",
   "execution_count": 2,
   "id": "bdaef136",
   "metadata": {},
   "outputs": [],
   "source": [
    "CTRcontrol1 = df1.query('exp_group == 1').likes.sum()/ df1.query('exp_group == 1').views.sum()\n",
    "CTRcontrol2 = df2.query('exp_group == 0').likes.sum()/ df2.query('exp_group == 0').views.sum()"
   ]
  },
  {
   "cell_type": "code",
   "execution_count": 3,
   "id": "af0573eb",
   "metadata": {},
   "outputs": [],
   "source": [
    "df1['linearized_likes'] = df1.likes - CTRcontrol1 * df1.views\n",
    "df2['linearized_likes'] = df2.likes - CTRcontrol2 * df2.views"
   ]
  },
  {
   "cell_type": "code",
   "execution_count": 4,
   "id": "5a1f90bc",
   "metadata": {},
   "outputs": [
    {
     "name": "stdout",
     "output_type": "stream",
     "text": [
      "Ttest_indResult(statistic=6.122579994775973, pvalue=9.439432187037644e-10)\n",
      "Ttest_indResult(statistic=0.7094392041270486, pvalue=0.4780623130874935)\n"
     ]
    }
   ],
   "source": [
    "print(stats.ttest_ind(df1[df1.exp_group == 1].linearized_likes, \n",
    "                   df1[df1.exp_group == 2].linearized_likes, \n",
    "                   equal_var = False))\n",
    "print(stats.ttest_ind(df1[df1.exp_group == 1].ctr, \n",
    "                   df1[df1.exp_group == 2].ctr, \n",
    "                   equal_var = False))"
   ]
  },
  {
   "cell_type": "code",
   "execution_count": 5,
   "id": "01cb52e7",
   "metadata": {},
   "outputs": [
    {
     "name": "stdout",
     "output_type": "stream",
     "text": [
      "Ttest_indResult(statistic=-15.21499546090383, pvalue=5.491424947968532e-52)\n",
      "Ttest_indResult(statistic=-13.896870721904069, pvalue=1.055849414662529e-43)\n"
     ]
    }
   ],
   "source": [
    "print(stats.ttest_ind(df2[df2.exp_group == 0].linearized_likes, \n",
    "                   df2[df2.exp_group == 3].linearized_likes, \n",
    "                   equal_var = False))\n",
    "print(stats.ttest_ind(df2[df2.exp_group == 0].ctr, \n",
    "                   df2[df2.exp_group == 3].ctr, \n",
    "                   equal_var = False))"
   ]
  },
  {
   "cell_type": "markdown",
   "id": "762b2873",
   "metadata": {},
   "source": [
    "При использовании использовании t-testa на метрике линеаризованных лайков получается более высокая чувствительность теста, он прокрасился даже на тех данных, где до этого распределение было скошенным и t-test использовать было нельзя(1 и 2 группы). p-value уменьшилось в обоих случаях"
   ]
  },
  {
   "cell_type": "code",
   "execution_count": null,
   "id": "557e1edc",
   "metadata": {},
   "outputs": [],
   "source": []
  }
 ],
 "metadata": {
  "kernelspec": {
   "display_name": "venv",
   "language": "python",
   "name": "venv"
  },
  "language_info": {
   "codemirror_mode": {
    "name": "ipython",
    "version": 3
   },
   "file_extension": ".py",
   "mimetype": "text/x-python",
   "name": "python",
   "nbconvert_exporter": "python",
   "pygments_lexer": "ipython3",
   "version": "3.10.7"
  }
 },
 "nbformat": 4,
 "nbformat_minor": 5
}
