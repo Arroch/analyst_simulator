{
 "cells": [
  {
   "cell_type": "code",
   "execution_count": 1,
   "id": "a0b7dcd4",
   "metadata": {},
   "outputs": [
    {
     "ename": "ClickhouseException",
     "evalue": "b'Code: 516. DB::Exception: default: Authentication failed: password is incorrect or there is no user with such name. (AUTHENTICATION_FAILED) (version 21.12.2.17 (official build))\\n'",
     "output_type": "error",
     "traceback": [
      "\u001b[1;31m---------------------------------------------------------------------------\u001b[0m",
      "\u001b[1;31mHTTPError\u001b[0m                                 Traceback (most recent call last)",
      "File \u001b[1;32mD:\\DS\\analyst_simulator\\venv\\lib\\site-packages\\pandahouse\\http.py:45\u001b[0m, in \u001b[0;36mexecute\u001b[1;34m(query, connection, data, external, stream)\u001b[0m\n\u001b[0;32m     44\u001b[0m \u001b[38;5;28;01mtry\u001b[39;00m:\n\u001b[1;32m---> 45\u001b[0m     \u001b[43mresponse\u001b[49m\u001b[38;5;241;43m.\u001b[39;49m\u001b[43mraise_for_status\u001b[49m\u001b[43m(\u001b[49m\u001b[43m)\u001b[49m\n\u001b[0;32m     46\u001b[0m \u001b[38;5;28;01mexcept\u001b[39;00m RequestException \u001b[38;5;28;01mas\u001b[39;00m e:\n",
      "File \u001b[1;32mD:\\DS\\analyst_simulator\\venv\\lib\\site-packages\\requests\\models.py:1021\u001b[0m, in \u001b[0;36mResponse.raise_for_status\u001b[1;34m(self)\u001b[0m\n\u001b[0;32m   1020\u001b[0m \u001b[38;5;28;01mif\u001b[39;00m http_error_msg:\n\u001b[1;32m-> 1021\u001b[0m     \u001b[38;5;28;01mraise\u001b[39;00m HTTPError(http_error_msg, response\u001b[38;5;241m=\u001b[39m\u001b[38;5;28mself\u001b[39m)\n",
      "\u001b[1;31mHTTPError\u001b[0m: 403 Client Error: Forbidden for url: https://clickhouse.lab.karpov.courses/?query=SELECT++exp_group%2C%0A++++++++user_id%2C%0A++++++++sum%28action%3D%27like%27%29+AS+likes%2C%0A++++++++sum%28action%3D%27view%27%29+AS+views%2C%0A++++++++likes%2Fviews+AS+ctr%0AFROM++++None.feed_actions%0AWHERE+++toDate%28time%29+BETWEEN+%272023-03-02%27+AND+%272023-03-08%27%0A++++++++AND+exp_group+in+%281%2C2%29%0AGROUP+BY+exp_group%2C+user_id+FORMAT+TSVWithNamesAndTypes",
      "\nDuring handling of the above exception, another exception occurred:\n",
      "\u001b[1;31mClickhouseException\u001b[0m                       Traceback (most recent call last)",
      "Cell \u001b[1;32mIn[1], line 43\u001b[0m\n\u001b[0;32m     20\u001b[0m query1 \u001b[38;5;241m=\u001b[39m \u001b[38;5;124m'''\u001b[39m\n\u001b[0;32m     21\u001b[0m \u001b[38;5;124mSELECT  exp_group,\u001b[39m\n\u001b[0;32m     22\u001b[0m \u001b[38;5;124m        user_id,\u001b[39m\n\u001b[1;32m   (...)\u001b[0m\n\u001b[0;32m     29\u001b[0m \u001b[38;5;124mGROUP BY exp_group, user_id\u001b[39m\n\u001b[0;32m     30\u001b[0m \u001b[38;5;124m'''\u001b[39m\n\u001b[0;32m     31\u001b[0m query2 \u001b[38;5;241m=\u001b[39m \u001b[38;5;124m'''\u001b[39m\n\u001b[0;32m     32\u001b[0m \u001b[38;5;124mSELECT  exp_group,\u001b[39m\n\u001b[0;32m     33\u001b[0m \u001b[38;5;124m        user_id,\u001b[39m\n\u001b[1;32m   (...)\u001b[0m\n\u001b[0;32m     40\u001b[0m \u001b[38;5;124mGROUP BY exp_group, user_id\u001b[39m\n\u001b[0;32m     41\u001b[0m \u001b[38;5;124m'''\u001b[39m\n\u001b[1;32m---> 43\u001b[0m df1 \u001b[38;5;241m=\u001b[39m \u001b[43mph\u001b[49m\u001b[38;5;241;43m.\u001b[39;49m\u001b[43mread_clickhouse\u001b[49m\u001b[43m(\u001b[49m\u001b[43mquery1\u001b[49m\u001b[43m,\u001b[49m\u001b[43m \u001b[49m\u001b[43mconnection\u001b[49m\u001b[38;5;241;43m=\u001b[39;49m\u001b[43mconnection\u001b[49m\u001b[43m)\u001b[49m\n\u001b[0;32m     44\u001b[0m df2 \u001b[38;5;241m=\u001b[39m ph\u001b[38;5;241m.\u001b[39mread_clickhouse(query2, connection\u001b[38;5;241m=\u001b[39mconnection)\n",
      "File \u001b[1;32mD:\\DS\\analyst_simulator\\venv\\lib\\site-packages\\pandahouse\\core.py:56\u001b[0m, in \u001b[0;36mread_clickhouse\u001b[1;34m(query, tables, index, connection, **kwargs)\u001b[0m\n\u001b[0;32m     32\u001b[0m \u001b[38;5;250m\u001b[39m\u001b[38;5;124;03m\"\"\"Reads clickhouse query to pandas dataframe\u001b[39;00m\n\u001b[0;32m     33\u001b[0m \n\u001b[0;32m     34\u001b[0m \u001b[38;5;124;03mParameters\u001b[39;00m\n\u001b[1;32m   (...)\u001b[0m\n\u001b[0;32m     53\u001b[0m \u001b[38;5;124;03mAdditional keyword arguments passed to `pandas.read_table`\u001b[39;00m\n\u001b[0;32m     54\u001b[0m \u001b[38;5;124;03m\"\"\"\u001b[39;00m\n\u001b[0;32m     55\u001b[0m query, external \u001b[38;5;241m=\u001b[39m selection(query, tables\u001b[38;5;241m=\u001b[39mtables, index\u001b[38;5;241m=\u001b[39mindex)\n\u001b[1;32m---> 56\u001b[0m lines \u001b[38;5;241m=\u001b[39m \u001b[43mexecute\u001b[49m\u001b[43m(\u001b[49m\u001b[43mquery\u001b[49m\u001b[43m,\u001b[49m\u001b[43m \u001b[49m\u001b[43mexternal\u001b[49m\u001b[38;5;241;43m=\u001b[39;49m\u001b[43mexternal\u001b[49m\u001b[43m,\u001b[49m\u001b[43m \u001b[49m\u001b[43mstream\u001b[49m\u001b[38;5;241;43m=\u001b[39;49m\u001b[38;5;28;43;01mTrue\u001b[39;49;00m\u001b[43m,\u001b[49m\n\u001b[0;32m     57\u001b[0m \u001b[43m                \u001b[49m\u001b[43mconnection\u001b[49m\u001b[38;5;241;43m=\u001b[39;49m\u001b[43mconnection\u001b[49m\u001b[43m)\u001b[49m\n\u001b[0;32m     58\u001b[0m \u001b[38;5;28;01mreturn\u001b[39;00m to_dataframe(lines, \u001b[38;5;241m*\u001b[39m\u001b[38;5;241m*\u001b[39mkwargs)\n",
      "File \u001b[1;32mD:\\DS\\analyst_simulator\\venv\\lib\\site-packages\\pandahouse\\http.py:48\u001b[0m, in \u001b[0;36mexecute\u001b[1;34m(query, connection, data, external, stream)\u001b[0m\n\u001b[0;32m     46\u001b[0m \u001b[38;5;28;01mexcept\u001b[39;00m RequestException \u001b[38;5;28;01mas\u001b[39;00m e:\n\u001b[0;32m     47\u001b[0m     \u001b[38;5;28;01mif\u001b[39;00m response\u001b[38;5;241m.\u001b[39mcontent:\n\u001b[1;32m---> 48\u001b[0m         \u001b[38;5;28;01mraise\u001b[39;00m ClickhouseException(response\u001b[38;5;241m.\u001b[39mcontent)\n\u001b[0;32m     49\u001b[0m     \u001b[38;5;28;01melse\u001b[39;00m:\n\u001b[0;32m     50\u001b[0m         \u001b[38;5;28;01mraise\u001b[39;00m e\n",
      "\u001b[1;31mClickhouseException\u001b[0m: b'Code: 516. DB::Exception: default: Authentication failed: password is incorrect or there is no user with such name. (AUTHENTICATION_FAILED) (version 21.12.2.17 (official build))\\n'"
     ]
    }
   ],
   "source": [
    "import os\n",
    "import dotenv\n",
    "\n",
    "import pandas as pd\n",
    "import pandahouse as ph\n",
    "from scipy import stats\n",
    "import numpy as np\n",
    "\n",
    "import seaborn as sns\n",
    "import matplotlib.pyplot as plt\n",
    "%matplotlib inline\n",
    "\n",
    "dotenv.load_dotenv()\n",
    "connection = {'host': os.getenv('host'),\n",
    "                      'database':os.getenv('extract_database'),\n",
    "                      'user':os.getenv('extract_user'), \n",
    "                      'password':os.getenv('extract_password')\n",
    "                     }\n",
    "\n",
    "query1 = '''\n",
    "SELECT  exp_group,\n",
    "        user_id,\n",
    "        sum(action='like') AS likes,\n",
    "        sum(action='view') AS views,\n",
    "        likes/views AS ctr\n",
    "FROM    {db}.feed_actions\n",
    "WHERE   toDate(time) BETWEEN '2023-03-02' AND '2023-03-08'\n",
    "        AND exp_group in (1,2)\n",
    "GROUP BY exp_group, user_id\n",
    "'''\n",
    "query2 = '''\n",
    "SELECT  exp_group,\n",
    "        user_id,\n",
    "        sum(action='like') AS likes,\n",
    "        sum(action='view') AS views,\n",
    "        likes/views AS ctr\n",
    "FROM    {db}.feed_actions\n",
    "WHERE   toDate(time) BETWEEN '2023-03-02' AND '2023-03-08'\n",
    "        AND exp_group in (0,3)\n",
    "GROUP BY exp_group, user_id\n",
    "'''\n",
    "\n",
    "df1 = ph.read_clickhouse(query1, connection=connection)\n",
    "df2 = ph.read_clickhouse(query2, connection=connection)\n"
   ]
  },
  {
   "cell_type": "code",
   "execution_count": 2,
   "id": "bdaef136",
   "metadata": {},
   "outputs": [],
   "source": [
    "CTRcontrol1 = df1.query('exp_group == 1').likes.sum()/ df1.query('exp_group == 1').views.sum()\n",
    "CTRcontrol2 = df2.query('exp_group == 0').likes.sum()/ df2.query('exp_group == 0').views.sum()"
   ]
  },
  {
   "cell_type": "code",
   "execution_count": 3,
   "id": "af0573eb",
   "metadata": {},
   "outputs": [],
   "source": [
    "df1['linearized_likes'] = df1.likes - CTRcontrol1 * df1.views\n",
    "df2['linearized_likes'] = df2.likes - CTRcontrol2 * df2.views"
   ]
  },
  {
   "cell_type": "code",
   "execution_count": 4,
   "id": "5a1f90bc",
   "metadata": {},
   "outputs": [
    {
     "name": "stdout",
     "output_type": "stream",
     "text": [
      "Ttest_indResult(statistic=6.122579994775973, pvalue=9.439432187037644e-10)\n",
      "Ttest_indResult(statistic=0.7094392041270486, pvalue=0.4780623130874935)\n"
     ]
    }
   ],
   "source": [
    "print(stats.ttest_ind(df1[df1.exp_group == 1].linearized_likes, \n",
    "                   df1[df1.exp_group == 2].linearized_likes, \n",
    "                   equal_var = False))\n",
    "print(stats.ttest_ind(df1[df1.exp_group == 1].ctr, \n",
    "                   df1[df1.exp_group == 2].ctr, \n",
    "                   equal_var = False))"
   ]
  },
  {
   "cell_type": "code",
   "execution_count": 5,
   "id": "01cb52e7",
   "metadata": {},
   "outputs": [
    {
     "name": "stdout",
     "output_type": "stream",
     "text": [
      "Ttest_indResult(statistic=-15.21499546090383, pvalue=5.491424947968532e-52)\n",
      "Ttest_indResult(statistic=-13.896870721904069, pvalue=1.055849414662529e-43)\n"
     ]
    }
   ],
   "source": [
    "print(stats.ttest_ind(df2[df2.exp_group == 0].linearized_likes, \n",
    "                   df2[df2.exp_group == 3].linearized_likes, \n",
    "                   equal_var = False))\n",
    "print(stats.ttest_ind(df2[df2.exp_group == 0].ctr, \n",
    "                   df2[df2.exp_group == 3].ctr, \n",
    "                   equal_var = False))"
   ]
  },
  {
   "cell_type": "markdown",
   "id": "762b2873",
   "metadata": {},
   "source": [
    "При использовании использовании t-testa на метрике линеаризованных лайков получается более высокая чувствительность теста, он прокрасился даже на тех данных, где до этого распределение было скошенным и t-test использовать было нельзя(1 и 2 группы). p-value уменьшилось в обоих случаях"
   ]
  },
  {
   "cell_type": "code",
   "execution_count": null,
   "id": "557e1edc",
   "metadata": {},
   "outputs": [],
   "source": []
  }
 ],
 "metadata": {
  "kernelspec": {
   "display_name": "venv",
   "language": "python",
   "name": "venv"
  },
  "language_info": {
   "codemirror_mode": {
    "name": "ipython",
    "version": 3
   },
   "file_extension": ".py",
   "mimetype": "text/x-python",
   "name": "python",
   "nbconvert_exporter": "python",
   "pygments_lexer": "ipython3",
   "version": "3.10.7"
  }
 },
 "nbformat": 4,
 "nbformat_minor": 5
}
