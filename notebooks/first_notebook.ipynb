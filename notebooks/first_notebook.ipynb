{
 "cells": [
  {
   "cell_type": "code",
   "execution_count": 1,
   "id": "429a4338",
   "metadata": {
    "scrolled": true
   },
   "outputs": [],
   "source": [
    "import pandas as pd\n",
    "import pandahouse as ph\n",
    "\n",
    "connection = {'host': 'https://clickhouse.lab.karpov.courses',\n",
    "                      'database':'simulator_20230320',\n",
    "                      'user':'student', \n",
    "                      'password':'dpo_python_2020'\n",
    "                     }\n",
    "\n",
    "query = '''\n",
    "select post_id, \n",
    "       countIf(action = 'view') as views, \n",
    "       countIf(action = 'like') as likes, \n",
    "       uniq(user_id) as uniq_users \n",
    "from {db}.feed_actions \n",
    "where toDate(time) = yesterday() \n",
    "group by post_id \n",
    "order by views desc \n",
    "limit 10\n",
    "'''\n",
    "\n",
    "df = ph.read_clickhouse(query, connection=connection)\n"
   ]
  },
  {
   "cell_type": "code",
   "execution_count": 2,
   "id": "f117c119",
   "metadata": {},
   "outputs": [
    {
     "data": {
      "text/html": [
       "<div>\n",
       "<style scoped>\n",
       "    .dataframe tbody tr th:only-of-type {\n",
       "        vertical-align: middle;\n",
       "    }\n",
       "\n",
       "    .dataframe tbody tr th {\n",
       "        vertical-align: top;\n",
       "    }\n",
       "\n",
       "    .dataframe thead th {\n",
       "        text-align: right;\n",
       "    }\n",
       "</style>\n",
       "<table border=\"1\" class=\"dataframe\">\n",
       "  <thead>\n",
       "    <tr style=\"text-align: right;\">\n",
       "      <th></th>\n",
       "      <th>post_id</th>\n",
       "      <th>views</th>\n",
       "      <th>likes</th>\n",
       "      <th>uniq_users</th>\n",
       "    </tr>\n",
       "  </thead>\n",
       "  <tbody>\n",
       "    <tr>\n",
       "      <th>0</th>\n",
       "      <td>6957</td>\n",
       "      <td>23122</td>\n",
       "      <td>7669</td>\n",
       "      <td>14675</td>\n",
       "    </tr>\n",
       "    <tr>\n",
       "      <th>1</th>\n",
       "      <td>6956</td>\n",
       "      <td>21927</td>\n",
       "      <td>6990</td>\n",
       "      <td>14227</td>\n",
       "    </tr>\n",
       "    <tr>\n",
       "      <th>2</th>\n",
       "      <td>6991</td>\n",
       "      <td>20036</td>\n",
       "      <td>6267</td>\n",
       "      <td>13417</td>\n",
       "    </tr>\n",
       "    <tr>\n",
       "      <th>3</th>\n",
       "      <td>6992</td>\n",
       "      <td>19323</td>\n",
       "      <td>5881</td>\n",
       "      <td>13085</td>\n",
       "    </tr>\n",
       "    <tr>\n",
       "      <th>4</th>\n",
       "      <td>7077</td>\n",
       "      <td>18690</td>\n",
       "      <td>5645</td>\n",
       "      <td>12785</td>\n",
       "    </tr>\n",
       "  </tbody>\n",
       "</table>\n",
       "</div>"
      ],
      "text/plain": [
       "   post_id  views  likes  uniq_users\n",
       "0     6957  23122   7669       14675\n",
       "1     6956  21927   6990       14227\n",
       "2     6991  20036   6267       13417\n",
       "3     6992  19323   5881       13085\n",
       "4     7077  18690   5645       12785"
      ]
     },
     "execution_count": 2,
     "metadata": {},
     "output_type": "execute_result"
    }
   ],
   "source": [
    "df.head()"
   ]
  },
  {
   "cell_type": "code",
   "execution_count": null,
   "id": "4392715a",
   "metadata": {},
   "outputs": [],
   "source": []
  }
 ],
 "metadata": {
  "kernelspec": {
   "display_name": "venv",
   "language": "python",
   "name": "venv"
  },
  "language_info": {
   "codemirror_mode": {
    "name": "ipython",
    "version": 3
   },
   "file_extension": ".py",
   "mimetype": "text/x-python",
   "name": "python",
   "nbconvert_exporter": "python",
   "pygments_lexer": "ipython3",
   "version": "3.10.7"
  }
 },
 "nbformat": 4,
 "nbformat_minor": 5
}
