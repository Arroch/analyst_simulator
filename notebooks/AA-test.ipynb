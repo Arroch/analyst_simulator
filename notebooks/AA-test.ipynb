{
 "cells": [
  {
   "cell_type": "code",
   "execution_count": 3,
   "id": "9d1bfea7",
   "metadata": {},
   "outputs": [],
   "source": [
    "import os\n",
    "import dotenv\n",
    "\n",
    "import pandas as pd\n",
    "import pandahouse as ph\n",
    "from scipy import stats\n",
    "import numpy as np\n",
    "\n",
    "import seaborn as sns\n",
    "import matplotlib.pyplot as plt\n",
    "%matplotlib inline\n",
    "\n",
    "dotenv.load_dotenv()\n",
    "connection = {'host': os.getenv('host'),\n",
    "                      'database':os.getenv('database'),\n",
    "                      'user':os.getenv('user'), \n",
    "                      'password':os.getenv('password')\n",
    "                     }\n",
    "query = '''\n",
    "SELECT  exp_group,\n",
    "        user_id,\n",
    "        sum(action='like') AS likes,\n",
    "        sum(action='view') AS views,\n",
    "        likes/views AS ctr\n",
    "FROM    {db}.feed_actions\n",
    "WHERE   toDate(time) BETWEEN '2023-02-23' AND '2023-03-01'\n",
    "        AND exp_group in (2,3)\n",
    "GROUP BY exp_group, user_id\n",
    "'''\n",
    "\n",
    "df = ph.read_clickhouse(query, connection=connection)"
   ]
  },
  {
   "cell_type": "code",
   "execution_count": 4,
   "id": "fa0880a9",
   "metadata": {},
   "outputs": [
    {
     "data": {
      "text/html": [
       "<div>\n",
       "<style scoped>\n",
       "    .dataframe tbody tr th:only-of-type {\n",
       "        vertical-align: middle;\n",
       "    }\n",
       "\n",
       "    .dataframe tbody tr th {\n",
       "        vertical-align: top;\n",
       "    }\n",
       "\n",
       "    .dataframe thead th {\n",
       "        text-align: right;\n",
       "    }\n",
       "</style>\n",
       "<table border=\"1\" class=\"dataframe\">\n",
       "  <thead>\n",
       "    <tr style=\"text-align: right;\">\n",
       "      <th></th>\n",
       "      <th>exp_group</th>\n",
       "      <th>user_id</th>\n",
       "      <th>likes</th>\n",
       "      <th>views</th>\n",
       "      <th>ctr</th>\n",
       "    </tr>\n",
       "  </thead>\n",
       "  <tbody>\n",
       "    <tr>\n",
       "      <th>0</th>\n",
       "      <td>3</td>\n",
       "      <td>115383</td>\n",
       "      <td>11</td>\n",
       "      <td>36</td>\n",
       "      <td>0.305556</td>\n",
       "    </tr>\n",
       "    <tr>\n",
       "      <th>1</th>\n",
       "      <td>3</td>\n",
       "      <td>123580</td>\n",
       "      <td>15</td>\n",
       "      <td>92</td>\n",
       "      <td>0.163043</td>\n",
       "    </tr>\n",
       "    <tr>\n",
       "      <th>2</th>\n",
       "      <td>2</td>\n",
       "      <td>131473</td>\n",
       "      <td>26</td>\n",
       "      <td>148</td>\n",
       "      <td>0.175676</td>\n",
       "    </tr>\n",
       "    <tr>\n",
       "      <th>3</th>\n",
       "      <td>2</td>\n",
       "      <td>23985</td>\n",
       "      <td>12</td>\n",
       "      <td>66</td>\n",
       "      <td>0.181818</td>\n",
       "    </tr>\n",
       "    <tr>\n",
       "      <th>4</th>\n",
       "      <td>2</td>\n",
       "      <td>24523</td>\n",
       "      <td>17</td>\n",
       "      <td>120</td>\n",
       "      <td>0.141667</td>\n",
       "    </tr>\n",
       "  </tbody>\n",
       "</table>\n",
       "</div>"
      ],
      "text/plain": [
       "   exp_group  user_id  likes  views       ctr\n",
       "0          3   115383     11     36  0.305556\n",
       "1          3   123580     15     92  0.163043\n",
       "2          2   131473     26    148  0.175676\n",
       "3          2    23985     12     66  0.181818\n",
       "4          2    24523     17    120  0.141667"
      ]
     },
     "execution_count": 4,
     "metadata": {},
     "output_type": "execute_result"
    }
   ],
   "source": [
    "df.head()"
   ]
  },
  {
   "cell_type": "code",
   "execution_count": 5,
   "id": "7abaa121",
   "metadata": {},
   "outputs": [],
   "source": [
    "pvalues = []\n",
    "for _ in range(10000):\n",
    "    #sample500_2 = df[df.exp_group == 2].user_id.sample(n=500).tolist()\n",
    "    #sample500_3 = df[df.exp_group == 3].user_id.sample(n=500).tolist()\n",
    "\n",
    "    #statistic, p_value = stats.ttest_ind(df.query('user_id in @sample500_2').ctr,\n",
    "    #                                     df.query('user_id in @sample500_3').ctr,\n",
    "    #                                     equal_var=False)\n",
    "    statistic, p_value = stats.ttest_ind(df[df.exp_group == 2].ctr.sample(n=500),\n",
    "                                         df[df.exp_group == 3].ctr.sample(n=500),\n",
    "                                         equal_var=False)\n",
    "    pvalues.append(p_value)"
   ]
  },
  {
   "cell_type": "code",
   "execution_count": 6,
   "id": "ea927a1a",
   "metadata": {},
   "outputs": [
    {
     "data": {
      "text/plain": [
       "<Axes: ylabel='Count'>"
      ]
     },
     "execution_count": 6,
     "metadata": {},
     "output_type": "execute_result"
    },
    {
     "data": {
      "image/png": "[encoded data removed]",
      "text/plain": [
       "<Figure size 640x480 with 1 Axes>"
      ]
     },
     "metadata": {},
     "output_type": "display_data"
    }
   ],
   "source": [
    "sns.histplot(pvalues)"
   ]
  },
  {
   "cell_type": "code",
   "execution_count": 7,
   "id": "6c966725",
   "metadata": {},
   "outputs": [
    {
     "data": {
      "text/plain": [
       "<Axes: ylabel='Count'>"
      ]
     },
     "execution_count": 7,
     "metadata": {},
     "output_type": "execute_result"
    },
    {
     "data": {
      "image/png": "[encoded data removed]",
      "text/plain": [
       "<Figure size 1200x600 with 1 Axes>"
      ]
     },
     "metadata": {},
     "output_type": "display_data"
    }
   ],
   "source": [
    "plt.figure(figsize=(12,6))\n",
    "sns.histplot(pvalues, log_scale=True)"
   ]
  },
  {
   "cell_type": "code",
   "execution_count": 8,
   "id": "8842a941",
   "metadata": {},
   "outputs": [
    {
     "data": {
      "text/plain": [
       "0.0459"
      ]
     },
     "execution_count": 8,
     "metadata": {},
     "output_type": "execute_result"
    }
   ],
   "source": [
    "sum(np.array(pvalues)<0.05)/10000"
   ]
  },
  {
   "cell_type": "markdown",
   "id": "f2f12398",
   "metadata": {},
   "source": [
    "По данным выше видно, что АА тест прокрасился в 4.72% случаев, а значит, значимых отличий в наших выборках нет."
   ]
  },
  {
   "cell_type": "code",
   "execution_count": null,
   "id": "3004d2dd",
   "metadata": {},
   "outputs": [],
   "source": []
  }
 ],
 "metadata": {
  "kernelspec": {
   "display_name": "venv",
   "language": "python",
   "name": "venv"
  },
  "language_info": {
   "codemirror_mode": {
    "name": "ipython",
    "version": 3
   },
   "file_extension": ".py",
   "mimetype": "text/x-python",
   "name": "python",
   "nbconvert_exporter": "python",
   "pygments_lexer": "ipython3",
   "version": "3.10.7"
  }
 },
 "nbformat": 4,
 "nbformat_minor": 5
}
